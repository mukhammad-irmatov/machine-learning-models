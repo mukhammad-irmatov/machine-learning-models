{
 "cells": [
  {
   "cell_type": "code",
   "execution_count": 30,
   "id": "046266b9-1ad4-430a-a43f-fc5f65a3523b",
   "metadata": {},
   "outputs": [],
   "source": [
    "import pandas as pd\n",
    "import numpy as np\n",
    "import matplotlib.pyplot as plt\n",
    "from sklearn import linear_model"
   ]
  },
  {
   "cell_type": "code",
   "execution_count": 31,
   "id": "14d5527e-4dd1-4b48-8fe1-347c9c8c4bac",
   "metadata": {},
   "outputs": [
    {
     "data": {
      "text/html": [
       "<div>\n",
       "<style scoped>\n",
       "    .dataframe tbody tr th:only-of-type {\n",
       "        vertical-align: middle;\n",
       "    }\n",
       "\n",
       "    .dataframe tbody tr th {\n",
       "        vertical-align: top;\n",
       "    }\n",
       "\n",
       "    .dataframe thead th {\n",
       "        text-align: right;\n",
       "    }\n",
       "</style>\n",
       "<table border=\"1\" class=\"dataframe\">\n",
       "  <thead>\n",
       "    <tr style=\"text-align: right;\">\n",
       "      <th></th>\n",
       "      <th>Alive</th>\n",
       "      <th>Class</th>\n",
       "      <th>Sex</th>\n",
       "      <th>Age</th>\n",
       "      <th>Fare</th>\n",
       "    </tr>\n",
       "  </thead>\n",
       "  <tbody>\n",
       "    <tr>\n",
       "      <th>0</th>\n",
       "      <td>0</td>\n",
       "      <td>3</td>\n",
       "      <td>male</td>\n",
       "      <td>22.0</td>\n",
       "      <td>7.2500</td>\n",
       "    </tr>\n",
       "    <tr>\n",
       "      <th>1</th>\n",
       "      <td>1</td>\n",
       "      <td>1</td>\n",
       "      <td>female</td>\n",
       "      <td>38.0</td>\n",
       "      <td>71.2833</td>\n",
       "    </tr>\n",
       "    <tr>\n",
       "      <th>2</th>\n",
       "      <td>1</td>\n",
       "      <td>3</td>\n",
       "      <td>female</td>\n",
       "      <td>26.0</td>\n",
       "      <td>7.9250</td>\n",
       "    </tr>\n",
       "    <tr>\n",
       "      <th>3</th>\n",
       "      <td>1</td>\n",
       "      <td>1</td>\n",
       "      <td>female</td>\n",
       "      <td>35.0</td>\n",
       "      <td>53.1000</td>\n",
       "    </tr>\n",
       "    <tr>\n",
       "      <th>4</th>\n",
       "      <td>0</td>\n",
       "      <td>3</td>\n",
       "      <td>male</td>\n",
       "      <td>35.0</td>\n",
       "      <td>8.0500</td>\n",
       "    </tr>\n",
       "    <tr>\n",
       "      <th>...</th>\n",
       "      <td>...</td>\n",
       "      <td>...</td>\n",
       "      <td>...</td>\n",
       "      <td>...</td>\n",
       "      <td>...</td>\n",
       "    </tr>\n",
       "    <tr>\n",
       "      <th>886</th>\n",
       "      <td>0</td>\n",
       "      <td>2</td>\n",
       "      <td>male</td>\n",
       "      <td>27.0</td>\n",
       "      <td>13.0000</td>\n",
       "    </tr>\n",
       "    <tr>\n",
       "      <th>887</th>\n",
       "      <td>1</td>\n",
       "      <td>1</td>\n",
       "      <td>female</td>\n",
       "      <td>19.0</td>\n",
       "      <td>30.0000</td>\n",
       "    </tr>\n",
       "    <tr>\n",
       "      <th>888</th>\n",
       "      <td>0</td>\n",
       "      <td>3</td>\n",
       "      <td>female</td>\n",
       "      <td>NaN</td>\n",
       "      <td>23.4500</td>\n",
       "    </tr>\n",
       "    <tr>\n",
       "      <th>889</th>\n",
       "      <td>1</td>\n",
       "      <td>1</td>\n",
       "      <td>male</td>\n",
       "      <td>26.0</td>\n",
       "      <td>30.0000</td>\n",
       "    </tr>\n",
       "    <tr>\n",
       "      <th>890</th>\n",
       "      <td>0</td>\n",
       "      <td>3</td>\n",
       "      <td>male</td>\n",
       "      <td>32.0</td>\n",
       "      <td>7.7500</td>\n",
       "    </tr>\n",
       "  </tbody>\n",
       "</table>\n",
       "<p>891 rows × 5 columns</p>\n",
       "</div>"
      ],
      "text/plain": [
       "     Alive  Class     Sex   Age     Fare\n",
       "0        0      3    male  22.0   7.2500\n",
       "1        1      1  female  38.0  71.2833\n",
       "2        1      3  female  26.0   7.9250\n",
       "3        1      1  female  35.0  53.1000\n",
       "4        0      3    male  35.0   8.0500\n",
       "..     ...    ...     ...   ...      ...\n",
       "886      0      2    male  27.0  13.0000\n",
       "887      1      1  female  19.0  30.0000\n",
       "888      0      3  female   NaN  23.4500\n",
       "889      1      1    male  26.0  30.0000\n",
       "890      0      3    male  32.0   7.7500\n",
       "\n",
       "[891 rows x 5 columns]"
      ]
     },
     "execution_count": 31,
     "metadata": {},
     "output_type": "execute_result"
    }
   ],
   "source": [
    "df = pd.read_csv(\"Sank.csv\")\n",
    "df"
   ]
  },
  {
   "cell_type": "markdown",
   "id": "09e34cf5-0952-4e1b-af17-0c5c4ea1cabb",
   "metadata": {},
   "source": [
    "<h1 style=\"text-align:center;color:purple\">Data Exploration part </h1>"
   ]
  },
  {
   "cell_type": "code",
   "execution_count": 32,
   "id": "d8e0c1a5-eec8-4f38-a874-d33cebe51f64",
   "metadata": {},
   "outputs": [
    {
     "data": {
      "text/html": [
       "<div>\n",
       "<style scoped>\n",
       "    .dataframe tbody tr th:only-of-type {\n",
       "        vertical-align: middle;\n",
       "    }\n",
       "\n",
       "    .dataframe tbody tr th {\n",
       "        vertical-align: top;\n",
       "    }\n",
       "\n",
       "    .dataframe thead th {\n",
       "        text-align: right;\n",
       "    }\n",
       "</style>\n",
       "<table border=\"1\" class=\"dataframe\">\n",
       "  <thead>\n",
       "    <tr style=\"text-align: right;\">\n",
       "      <th></th>\n",
       "      <th>Alive</th>\n",
       "      <th>Class</th>\n",
       "      <th>Age</th>\n",
       "      <th>Fare</th>\n",
       "    </tr>\n",
       "  </thead>\n",
       "  <tbody>\n",
       "    <tr>\n",
       "      <th>count</th>\n",
       "      <td>891.000000</td>\n",
       "      <td>891.000000</td>\n",
       "      <td>714.000000</td>\n",
       "      <td>891.000000</td>\n",
       "    </tr>\n",
       "    <tr>\n",
       "      <th>mean</th>\n",
       "      <td>0.383838</td>\n",
       "      <td>2.308642</td>\n",
       "      <td>29.699118</td>\n",
       "      <td>32.204208</td>\n",
       "    </tr>\n",
       "    <tr>\n",
       "      <th>std</th>\n",
       "      <td>0.486592</td>\n",
       "      <td>0.836071</td>\n",
       "      <td>14.526497</td>\n",
       "      <td>49.693429</td>\n",
       "    </tr>\n",
       "    <tr>\n",
       "      <th>min</th>\n",
       "      <td>0.000000</td>\n",
       "      <td>1.000000</td>\n",
       "      <td>0.420000</td>\n",
       "      <td>0.000000</td>\n",
       "    </tr>\n",
       "    <tr>\n",
       "      <th>25%</th>\n",
       "      <td>0.000000</td>\n",
       "      <td>2.000000</td>\n",
       "      <td>20.125000</td>\n",
       "      <td>7.910400</td>\n",
       "    </tr>\n",
       "    <tr>\n",
       "      <th>50%</th>\n",
       "      <td>0.000000</td>\n",
       "      <td>3.000000</td>\n",
       "      <td>28.000000</td>\n",
       "      <td>14.454200</td>\n",
       "    </tr>\n",
       "    <tr>\n",
       "      <th>75%</th>\n",
       "      <td>1.000000</td>\n",
       "      <td>3.000000</td>\n",
       "      <td>38.000000</td>\n",
       "      <td>31.000000</td>\n",
       "    </tr>\n",
       "    <tr>\n",
       "      <th>max</th>\n",
       "      <td>1.000000</td>\n",
       "      <td>3.000000</td>\n",
       "      <td>80.000000</td>\n",
       "      <td>512.329200</td>\n",
       "    </tr>\n",
       "  </tbody>\n",
       "</table>\n",
       "</div>"
      ],
      "text/plain": [
       "            Alive       Class         Age        Fare\n",
       "count  891.000000  891.000000  714.000000  891.000000\n",
       "mean     0.383838    2.308642   29.699118   32.204208\n",
       "std      0.486592    0.836071   14.526497   49.693429\n",
       "min      0.000000    1.000000    0.420000    0.000000\n",
       "25%      0.000000    2.000000   20.125000    7.910400\n",
       "50%      0.000000    3.000000   28.000000   14.454200\n",
       "75%      1.000000    3.000000   38.000000   31.000000\n",
       "max      1.000000    3.000000   80.000000  512.329200"
      ]
     },
     "execution_count": 32,
     "metadata": {},
     "output_type": "execute_result"
    }
   ],
   "source": [
    "df.describe()"
   ]
  },
  {
   "cell_type": "code",
   "execution_count": 33,
   "id": "907d0a5a-c2d5-48d9-a35d-1250d25e43d3",
   "metadata": {},
   "outputs": [
    {
     "name": "stdout",
     "output_type": "stream",
     "text": [
      "<class 'pandas.core.frame.DataFrame'>\n",
      "RangeIndex: 891 entries, 0 to 890\n",
      "Data columns (total 5 columns):\n",
      " #   Column  Non-Null Count  Dtype  \n",
      "---  ------  --------------  -----  \n",
      " 0   Alive   891 non-null    int64  \n",
      " 1   Class   891 non-null    int64  \n",
      " 2   Sex     891 non-null    object \n",
      " 3   Age     714 non-null    float64\n",
      " 4   Fare    891 non-null    float64\n",
      "dtypes: float64(2), int64(2), object(1)\n",
      "memory usage: 34.9+ KB\n"
     ]
    }
   ],
   "source": [
    "df.info()"
   ]
  },
  {
   "cell_type": "markdown",
   "id": "51f25ae5-8d50-4d40-b538-90142c1c7823",
   "metadata": {},
   "source": [
    "<h4 style=\"color:red\">As we can see, there are 177 null-values in AGE column, so we should whether drop or fill these columns otherwise, it affects our model accuracy.</h4>"
   ]
  },
  {
   "cell_type": "markdown",
   "id": "bc413025-a64e-4e3f-b53a-e25b241ecece",
   "metadata": {},
   "source": [
    "<h4> We need to find Median value of Age column </h4>"
   ]
  },
  {
   "cell_type": "code",
   "execution_count": 34,
   "id": "693c2042-0fea-49bc-8476-6a867e71e1c7",
   "metadata": {},
   "outputs": [
    {
     "data": {
      "text/plain": [
       "29"
      ]
     },
     "execution_count": 34,
     "metadata": {},
     "output_type": "execute_result"
    }
   ],
   "source": [
    "import math\n",
    "ageMedian = math.floor(df[\"Age\"].mean())\n",
    "ageMedian"
   ]
  },
  {
   "cell_type": "markdown",
   "id": "f122800d-7f02-41e6-84ed-7073a396312b",
   "metadata": {},
   "source": [
    "<h4> We filled null columns with median values"
   ]
  },
  {
   "cell_type": "code",
   "execution_count": 35,
   "id": "aba7b0e1-c038-4086-b8b3-06190f52c5ad",
   "metadata": {},
   "outputs": [],
   "source": [
    "df[\"Age\"] = df[\"Age\"].fillna(ageMedian)"
   ]
  },
  {
   "cell_type": "code",
   "execution_count": 36,
   "id": "2038f48b-dbca-4f5c-9d1c-409cc7deb96c",
   "metadata": {},
   "outputs": [
    {
     "name": "stdout",
     "output_type": "stream",
     "text": [
      "<class 'pandas.core.frame.DataFrame'>\n",
      "RangeIndex: 891 entries, 0 to 890\n",
      "Data columns (total 5 columns):\n",
      " #   Column  Non-Null Count  Dtype  \n",
      "---  ------  --------------  -----  \n",
      " 0   Alive   891 non-null    int64  \n",
      " 1   Class   891 non-null    int64  \n",
      " 2   Sex     891 non-null    object \n",
      " 3   Age     891 non-null    float64\n",
      " 4   Fare    891 non-null    float64\n",
      "dtypes: float64(2), int64(2), object(1)\n",
      "memory usage: 34.9+ KB\n"
     ]
    }
   ],
   "source": [
    "df.info()"
   ]
  },
  {
   "cell_type": "code",
   "execution_count": 37,
   "id": "ef61c8eb-fd78-411c-a2f6-cf90abe1febb",
   "metadata": {},
   "outputs": [
    {
     "data": {
      "text/html": [
       "<div>\n",
       "<style scoped>\n",
       "    .dataframe tbody tr th:only-of-type {\n",
       "        vertical-align: middle;\n",
       "    }\n",
       "\n",
       "    .dataframe tbody tr th {\n",
       "        vertical-align: top;\n",
       "    }\n",
       "\n",
       "    .dataframe thead th {\n",
       "        text-align: right;\n",
       "    }\n",
       "</style>\n",
       "<table border=\"1\" class=\"dataframe\">\n",
       "  <thead>\n",
       "    <tr style=\"text-align: right;\">\n",
       "      <th></th>\n",
       "      <th>Class</th>\n",
       "      <th>Age</th>\n",
       "      <th>Fare</th>\n",
       "    </tr>\n",
       "    <tr>\n",
       "      <th>Alive</th>\n",
       "      <th></th>\n",
       "      <th></th>\n",
       "      <th></th>\n",
       "    </tr>\n",
       "  </thead>\n",
       "  <tbody>\n",
       "    <tr>\n",
       "      <th>0</th>\n",
       "      <td>2.531876</td>\n",
       "      <td>30.25592</td>\n",
       "      <td>22.117887</td>\n",
       "    </tr>\n",
       "    <tr>\n",
       "      <th>1</th>\n",
       "      <td>1.950292</td>\n",
       "      <td>28.44348</td>\n",
       "      <td>48.395408</td>\n",
       "    </tr>\n",
       "  </tbody>\n",
       "</table>\n",
       "</div>"
      ],
      "text/plain": [
       "          Class       Age       Fare\n",
       "Alive                               \n",
       "0      2.531876  30.25592  22.117887\n",
       "1      1.950292  28.44348  48.395408"
      ]
     },
     "execution_count": 37,
     "metadata": {},
     "output_type": "execute_result"
    }
   ],
   "source": [
    "df.groupby('Alive').mean()"
   ]
  },
  {
   "cell_type": "markdown",
   "id": "2a34af78-604b-4b1e-9492-5db4e40ab1ce",
   "metadata": {},
   "source": [
    "From above table we can draw following conclusions,\n",
    "<ol>\n",
    "    <li><b>**Class**</b>: passenger class level seems to be relatively low (1.95) in people are survived vs the not survived (2.53)</li>\n",
    "    <li><b><b>**AGE**</b></b>: Average Age are slightly lower in people are survived (28) vs the not survived (30)</li>\n",
    "    <li><b>**Fare**</b>: AVerage Fare are significantly higher in people are survived(48) vs the not survived(22) </li>\n",
    "</ol>"
   ]
  },
  {
   "cell_type": "markdown",
   "id": "58cf3be0-5cfa-4d38-8260-468ffeae672f",
   "metadata": {},
   "source": [
    "<h3 style=\"color:green\">Impact of Class to the Alive </h3>"
   ]
  },
  {
   "cell_type": "code",
   "execution_count": 38,
   "id": "0fb506d0-038e-470b-971f-1df5fe4fdb65",
   "metadata": {},
   "outputs": [
    {
     "data": {
      "text/plain": [
       "<AxesSubplot:xlabel='Class'>"
      ]
     },
     "execution_count": 38,
     "metadata": {},
     "output_type": "execute_result"
    },
    {
     "data": {
      "image/png": "[encoded data removed]",
      "text/plain": [
       "<Figure size 432x288 with 1 Axes>"
      ]
     },
     "metadata": {
      "needs_background": "light"
     },
     "output_type": "display_data"
    }
   ],
   "source": [
    "pd.crosstab(df.Class,df.Alive).plot(kind='bar')"
   ]
  },
  {
   "cell_type": "markdown",
   "id": "d9a1209a-c065-45c9-baad-87d6d223ce31",
   "metadata": {},
   "source": [
    "Above bar chart shows people with high class are likely to not survived"
   ]
  },
  {
   "cell_type": "markdown",
   "id": "7d8a15e0-8d02-4a10-add0-b4d881a90ade",
   "metadata": {},
   "source": [
    "<b>Inputs  = Class,Age,Fare"
   ]
  },
  {
   "cell_type": "code",
   "execution_count": 39,
   "id": "cc85d268-11c2-4a55-b816-10951ae848ac",
   "metadata": {},
   "outputs": [
    {
     "data": {
      "text/html": [
       "<div>\n",
       "<style scoped>\n",
       "    .dataframe tbody tr th:only-of-type {\n",
       "        vertical-align: middle;\n",
       "    }\n",
       "\n",
       "    .dataframe tbody tr th {\n",
       "        vertical-align: top;\n",
       "    }\n",
       "\n",
       "    .dataframe thead th {\n",
       "        text-align: right;\n",
       "    }\n",
       "</style>\n",
       "<table border=\"1\" class=\"dataframe\">\n",
       "  <thead>\n",
       "    <tr style=\"text-align: right;\">\n",
       "      <th></th>\n",
       "      <th>Class</th>\n",
       "      <th>Sex</th>\n",
       "      <th>Age</th>\n",
       "      <th>Fare</th>\n",
       "    </tr>\n",
       "  </thead>\n",
       "  <tbody>\n",
       "    <tr>\n",
       "      <th>0</th>\n",
       "      <td>3</td>\n",
       "      <td>male</td>\n",
       "      <td>22.0</td>\n",
       "      <td>7.2500</td>\n",
       "    </tr>\n",
       "    <tr>\n",
       "      <th>1</th>\n",
       "      <td>1</td>\n",
       "      <td>female</td>\n",
       "      <td>38.0</td>\n",
       "      <td>71.2833</td>\n",
       "    </tr>\n",
       "    <tr>\n",
       "      <th>2</th>\n",
       "      <td>3</td>\n",
       "      <td>female</td>\n",
       "      <td>26.0</td>\n",
       "      <td>7.9250</td>\n",
       "    </tr>\n",
       "    <tr>\n",
       "      <th>3</th>\n",
       "      <td>1</td>\n",
       "      <td>female</td>\n",
       "      <td>35.0</td>\n",
       "      <td>53.1000</td>\n",
       "    </tr>\n",
       "    <tr>\n",
       "      <th>4</th>\n",
       "      <td>3</td>\n",
       "      <td>male</td>\n",
       "      <td>35.0</td>\n",
       "      <td>8.0500</td>\n",
       "    </tr>\n",
       "    <tr>\n",
       "      <th>...</th>\n",
       "      <td>...</td>\n",
       "      <td>...</td>\n",
       "      <td>...</td>\n",
       "      <td>...</td>\n",
       "    </tr>\n",
       "    <tr>\n",
       "      <th>886</th>\n",
       "      <td>2</td>\n",
       "      <td>male</td>\n",
       "      <td>27.0</td>\n",
       "      <td>13.0000</td>\n",
       "    </tr>\n",
       "    <tr>\n",
       "      <th>887</th>\n",
       "      <td>1</td>\n",
       "      <td>female</td>\n",
       "      <td>19.0</td>\n",
       "      <td>30.0000</td>\n",
       "    </tr>\n",
       "    <tr>\n",
       "      <th>888</th>\n",
       "      <td>3</td>\n",
       "      <td>female</td>\n",
       "      <td>29.0</td>\n",
       "      <td>23.4500</td>\n",
       "    </tr>\n",
       "    <tr>\n",
       "      <th>889</th>\n",
       "      <td>1</td>\n",
       "      <td>male</td>\n",
       "      <td>26.0</td>\n",
       "      <td>30.0000</td>\n",
       "    </tr>\n",
       "    <tr>\n",
       "      <th>890</th>\n",
       "      <td>3</td>\n",
       "      <td>male</td>\n",
       "      <td>32.0</td>\n",
       "      <td>7.7500</td>\n",
       "    </tr>\n",
       "  </tbody>\n",
       "</table>\n",
       "<p>891 rows × 4 columns</p>\n",
       "</div>"
      ],
      "text/plain": [
       "     Class     Sex   Age     Fare\n",
       "0        3    male  22.0   7.2500\n",
       "1        1  female  38.0  71.2833\n",
       "2        3  female  26.0   7.9250\n",
       "3        1  female  35.0  53.1000\n",
       "4        3    male  35.0   8.0500\n",
       "..     ...     ...   ...      ...\n",
       "886      2    male  27.0  13.0000\n",
       "887      1  female  19.0  30.0000\n",
       "888      3  female  29.0  23.4500\n",
       "889      1    male  26.0  30.0000\n",
       "890      3    male  32.0   7.7500\n",
       "\n",
       "[891 rows x 4 columns]"
      ]
     },
     "execution_count": 39,
     "metadata": {},
     "output_type": "execute_result"
    }
   ],
   "source": [
    "inputs = df.drop('Alive',axis='columns')\n",
    "inputs"
   ]
  },
  {
   "cell_type": "code",
   "execution_count": 40,
   "id": "5a5d31ce-1d35-4781-ba9b-9154fe5bc7fb",
   "metadata": {},
   "outputs": [
    {
     "data": {
      "text/plain": [
       "0      0\n",
       "1      1\n",
       "2      1\n",
       "3      1\n",
       "4      0\n",
       "      ..\n",
       "886    0\n",
       "887    1\n",
       "888    0\n",
       "889    1\n",
       "890    0\n",
       "Name: Alive, Length: 891, dtype: int64"
      ]
     },
     "execution_count": 40,
     "metadata": {},
     "output_type": "execute_result"
    }
   ],
   "source": [
    "output = df['Alive']\n",
    "output"
   ]
  },
  {
   "cell_type": "markdown",
   "id": "e94ce393-a41b-4599-b68a-a3feeec0e420",
   "metadata": {},
   "source": [
    "<h4 style=\"color:darkorange\"> By using LabelEncoder, we should change Sex names(male,female) to 0 and 1. </h4>"
   ]
  },
  {
   "cell_type": "code",
   "execution_count": 46,
   "id": "a638f174-a562-43db-a95d-976fa3876e50",
   "metadata": {},
   "outputs": [],
   "source": [
    "from sklearn.preprocessing import LabelEncoder\n",
    "le_sex = LabelEncoder()"
   ]
  },
  {
   "cell_type": "code",
   "execution_count": 47,
   "id": "b7b0bc97-a83c-40fc-9825-7af1f58c40e0",
   "metadata": {},
   "outputs": [],
   "source": [
    "inputs['sex_new'] = le_sex.fit_transform(inputs['Sex'])"
   ]
  },
  {
   "cell_type": "code",
   "execution_count": 48,
   "id": "5104b6a1-838e-480e-b78f-6aaf8739d0eb",
   "metadata": {},
   "outputs": [
    {
     "data": {
      "text/html": [
       "<div>\n",
       "<style scoped>\n",
       "    .dataframe tbody tr th:only-of-type {\n",
       "        vertical-align: middle;\n",
       "    }\n",
       "\n",
       "    .dataframe tbody tr th {\n",
       "        vertical-align: top;\n",
       "    }\n",
       "\n",
       "    .dataframe thead th {\n",
       "        text-align: right;\n",
       "    }\n",
       "</style>\n",
       "<table border=\"1\" class=\"dataframe\">\n",
       "  <thead>\n",
       "    <tr style=\"text-align: right;\">\n",
       "      <th></th>\n",
       "      <th>Class</th>\n",
       "      <th>Sex</th>\n",
       "      <th>Age</th>\n",
       "      <th>Fare</th>\n",
       "      <th>sex_new</th>\n",
       "    </tr>\n",
       "  </thead>\n",
       "  <tbody>\n",
       "    <tr>\n",
       "      <th>0</th>\n",
       "      <td>3</td>\n",
       "      <td>male</td>\n",
       "      <td>22.0</td>\n",
       "      <td>7.2500</td>\n",
       "      <td>1</td>\n",
       "    </tr>\n",
       "    <tr>\n",
       "      <th>1</th>\n",
       "      <td>1</td>\n",
       "      <td>female</td>\n",
       "      <td>38.0</td>\n",
       "      <td>71.2833</td>\n",
       "      <td>0</td>\n",
       "    </tr>\n",
       "    <tr>\n",
       "      <th>2</th>\n",
       "      <td>3</td>\n",
       "      <td>female</td>\n",
       "      <td>26.0</td>\n",
       "      <td>7.9250</td>\n",
       "      <td>0</td>\n",
       "    </tr>\n",
       "    <tr>\n",
       "      <th>3</th>\n",
       "      <td>1</td>\n",
       "      <td>female</td>\n",
       "      <td>35.0</td>\n",
       "      <td>53.1000</td>\n",
       "      <td>0</td>\n",
       "    </tr>\n",
       "    <tr>\n",
       "      <th>4</th>\n",
       "      <td>3</td>\n",
       "      <td>male</td>\n",
       "      <td>35.0</td>\n",
       "      <td>8.0500</td>\n",
       "      <td>1</td>\n",
       "    </tr>\n",
       "    <tr>\n",
       "      <th>...</th>\n",
       "      <td>...</td>\n",
       "      <td>...</td>\n",
       "      <td>...</td>\n",
       "      <td>...</td>\n",
       "      <td>...</td>\n",
       "    </tr>\n",
       "    <tr>\n",
       "      <th>886</th>\n",
       "      <td>2</td>\n",
       "      <td>male</td>\n",
       "      <td>27.0</td>\n",
       "      <td>13.0000</td>\n",
       "      <td>1</td>\n",
       "    </tr>\n",
       "    <tr>\n",
       "      <th>887</th>\n",
       "      <td>1</td>\n",
       "      <td>female</td>\n",
       "      <td>19.0</td>\n",
       "      <td>30.0000</td>\n",
       "      <td>0</td>\n",
       "    </tr>\n",
       "    <tr>\n",
       "      <th>888</th>\n",
       "      <td>3</td>\n",
       "      <td>female</td>\n",
       "      <td>29.0</td>\n",
       "      <td>23.4500</td>\n",
       "      <td>0</td>\n",
       "    </tr>\n",
       "    <tr>\n",
       "      <th>889</th>\n",
       "      <td>1</td>\n",
       "      <td>male</td>\n",
       "      <td>26.0</td>\n",
       "      <td>30.0000</td>\n",
       "      <td>1</td>\n",
       "    </tr>\n",
       "    <tr>\n",
       "      <th>890</th>\n",
       "      <td>3</td>\n",
       "      <td>male</td>\n",
       "      <td>32.0</td>\n",
       "      <td>7.7500</td>\n",
       "      <td>1</td>\n",
       "    </tr>\n",
       "  </tbody>\n",
       "</table>\n",
       "<p>891 rows × 5 columns</p>\n",
       "</div>"
      ],
      "text/plain": [
       "     Class     Sex   Age     Fare  sex_new\n",
       "0        3    male  22.0   7.2500        1\n",
       "1        1  female  38.0  71.2833        0\n",
       "2        3  female  26.0   7.9250        0\n",
       "3        1  female  35.0  53.1000        0\n",
       "4        3    male  35.0   8.0500        1\n",
       "..     ...     ...   ...      ...      ...\n",
       "886      2    male  27.0  13.0000        1\n",
       "887      1  female  19.0  30.0000        0\n",
       "888      3  female  29.0  23.4500        0\n",
       "889      1    male  26.0  30.0000        1\n",
       "890      3    male  32.0   7.7500        1\n",
       "\n",
       "[891 rows x 5 columns]"
      ]
     },
     "execution_count": 48,
     "metadata": {},
     "output_type": "execute_result"
    }
   ],
   "source": [
    "inputs"
   ]
  },
  {
   "cell_type": "code",
   "execution_count": 49,
   "id": "351c5e44-8767-4fde-bb27-1413fa2303e3",
   "metadata": {},
   "outputs": [],
   "source": [
    "inputs.drop(['Sex'],axis='columns',inplace=True)"
   ]
  },
  {
   "cell_type": "code",
   "execution_count": 50,
   "id": "b76fb610-7364-4efe-8998-e2cc28e815c1",
   "metadata": {},
   "outputs": [
    {
     "data": {
      "text/html": [
       "<div>\n",
       "<style scoped>\n",
       "    .dataframe tbody tr th:only-of-type {\n",
       "        vertical-align: middle;\n",
       "    }\n",
       "\n",
       "    .dataframe tbody tr th {\n",
       "        vertical-align: top;\n",
       "    }\n",
       "\n",
       "    .dataframe thead th {\n",
       "        text-align: right;\n",
       "    }\n",
       "</style>\n",
       "<table border=\"1\" class=\"dataframe\">\n",
       "  <thead>\n",
       "    <tr style=\"text-align: right;\">\n",
       "      <th></th>\n",
       "      <th>Class</th>\n",
       "      <th>Age</th>\n",
       "      <th>Fare</th>\n",
       "      <th>sex_new</th>\n",
       "    </tr>\n",
       "  </thead>\n",
       "  <tbody>\n",
       "    <tr>\n",
       "      <th>0</th>\n",
       "      <td>3</td>\n",
       "      <td>22.0</td>\n",
       "      <td>7.2500</td>\n",
       "      <td>1</td>\n",
       "    </tr>\n",
       "    <tr>\n",
       "      <th>1</th>\n",
       "      <td>1</td>\n",
       "      <td>38.0</td>\n",
       "      <td>71.2833</td>\n",
       "      <td>0</td>\n",
       "    </tr>\n",
       "    <tr>\n",
       "      <th>2</th>\n",
       "      <td>3</td>\n",
       "      <td>26.0</td>\n",
       "      <td>7.9250</td>\n",
       "      <td>0</td>\n",
       "    </tr>\n",
       "    <tr>\n",
       "      <th>3</th>\n",
       "      <td>1</td>\n",
       "      <td>35.0</td>\n",
       "      <td>53.1000</td>\n",
       "      <td>0</td>\n",
       "    </tr>\n",
       "    <tr>\n",
       "      <th>4</th>\n",
       "      <td>3</td>\n",
       "      <td>35.0</td>\n",
       "      <td>8.0500</td>\n",
       "      <td>1</td>\n",
       "    </tr>\n",
       "    <tr>\n",
       "      <th>...</th>\n",
       "      <td>...</td>\n",
       "      <td>...</td>\n",
       "      <td>...</td>\n",
       "      <td>...</td>\n",
       "    </tr>\n",
       "    <tr>\n",
       "      <th>886</th>\n",
       "      <td>2</td>\n",
       "      <td>27.0</td>\n",
       "      <td>13.0000</td>\n",
       "      <td>1</td>\n",
       "    </tr>\n",
       "    <tr>\n",
       "      <th>887</th>\n",
       "      <td>1</td>\n",
       "      <td>19.0</td>\n",
       "      <td>30.0000</td>\n",
       "      <td>0</td>\n",
       "    </tr>\n",
       "    <tr>\n",
       "      <th>888</th>\n",
       "      <td>3</td>\n",
       "      <td>29.0</td>\n",
       "      <td>23.4500</td>\n",
       "      <td>0</td>\n",
       "    </tr>\n",
       "    <tr>\n",
       "      <th>889</th>\n",
       "      <td>1</td>\n",
       "      <td>26.0</td>\n",
       "      <td>30.0000</td>\n",
       "      <td>1</td>\n",
       "    </tr>\n",
       "    <tr>\n",
       "      <th>890</th>\n",
       "      <td>3</td>\n",
       "      <td>32.0</td>\n",
       "      <td>7.7500</td>\n",
       "      <td>1</td>\n",
       "    </tr>\n",
       "  </tbody>\n",
       "</table>\n",
       "<p>891 rows × 4 columns</p>\n",
       "</div>"
      ],
      "text/plain": [
       "     Class   Age     Fare  sex_new\n",
       "0        3  22.0   7.2500        1\n",
       "1        1  38.0  71.2833        0\n",
       "2        3  26.0   7.9250        0\n",
       "3        1  35.0  53.1000        0\n",
       "4        3  35.0   8.0500        1\n",
       "..     ...   ...      ...      ...\n",
       "886      2  27.0  13.0000        1\n",
       "887      1  19.0  30.0000        0\n",
       "888      3  29.0  23.4500        0\n",
       "889      1  26.0  30.0000        1\n",
       "890      3  32.0   7.7500        1\n",
       "\n",
       "[891 rows x 4 columns]"
      ]
     },
     "execution_count": 50,
     "metadata": {},
     "output_type": "execute_result"
    }
   ],
   "source": [
    "inputs"
   ]
  },
  {
   "cell_type": "markdown",
   "id": "c9b8a9e3-6111-4fce-8931-61233d4f205f",
   "metadata": {},
   "source": [
    "<h4 style=\"text-align:left;color:red\"> we will divide data into two datasets: train_set and test_set </h4>"
   ]
  },
  {
   "cell_type": "code",
   "execution_count": 51,
   "id": "59ef737f-b0ee-4549-85e9-16f49638189f",
   "metadata": {},
   "outputs": [],
   "source": [
    "from sklearn.model_selection import train_test_split"
   ]
  },
  {
   "cell_type": "code",
   "execution_count": 52,
   "id": "484914cd-646e-4903-85b0-b28c20b2ae89",
   "metadata": {},
   "outputs": [],
   "source": [
    "X_train, X_test, y_train, y_test = train_test_split(inputs,output, test_size=0.2)"
   ]
  },
  {
   "cell_type": "markdown",
   "id": "cb181197-fea6-486a-b6d7-43a8e287316d",
   "metadata": {},
   "source": [
    "<h1 style=\"text-align:center;color:purple\">Creating Model with Decision tree  </h1>"
   ]
  },
  {
   "cell_type": "code",
   "execution_count": 53,
   "id": "7c32329c-d921-40df-a53d-e30eb7758ba9",
   "metadata": {},
   "outputs": [],
   "source": [
    "from sklearn import tree\n",
    "model = tree.DecisionTreeClassifier(criterion='gini',random_state=42)"
   ]
  },
  {
   "cell_type": "code",
   "execution_count": 54,
   "id": "de825628-40af-4f07-9ebb-7dd5225a07c4",
   "metadata": {},
   "outputs": [
    {
     "data": {
      "text/plain": [
       "DecisionTreeClassifier(random_state=42)"
      ]
     },
     "execution_count": 54,
     "metadata": {},
     "output_type": "execute_result"
    }
   ],
   "source": [
    "model.fit(X_train, y_train)"
   ]
  },
  {
   "cell_type": "markdown",
   "id": "08f9cdbd-1757-421b-afbb-c921f49d4f3d",
   "metadata": {
    "tags": []
   },
   "source": [
    "<h5 style=\"color:red\"> Class = 1, Male, Age: 28,  Fare:  20.5 </h5>"
   ]
  },
  {
   "cell_type": "code",
   "execution_count": 55,
   "id": "bb722d75-0659-4786-bacf-45aa5ca2b2b3",
   "metadata": {},
   "outputs": [
    {
     "data": {
      "text/plain": [
       "array([0], dtype=int64)"
      ]
     },
     "execution_count": 55,
     "metadata": {},
     "output_type": "execute_result"
    }
   ],
   "source": [
    "model.predict([[1,28,20.5,1]])"
   ]
  },
  {
   "cell_type": "markdown",
   "id": "76a0b55c-294e-4974-9c43-bee0a985f6e4",
   "metadata": {},
   "source": [
    "<h5 style=\"color:red\"> Class = 2, Male, Age: 70,  Fare:  7.5 </h5>"
   ]
  },
  {
   "cell_type": "code",
   "execution_count": 56,
   "id": "d123d625-6a58-4b21-a1fc-627d5cabe32c",
   "metadata": {},
   "outputs": [
    {
     "data": {
      "text/plain": [
       "array([0], dtype=int64)"
      ]
     },
     "execution_count": 56,
     "metadata": {},
     "output_type": "execute_result"
    }
   ],
   "source": [
    "model.predict([[2,70,7.5,1]])"
   ]
  },
  {
   "cell_type": "markdown",
   "id": "70b39c3b-d0df-4146-9e7c-3f91567f4226",
   "metadata": {},
   "source": [
    "<h5 style=\"color:red\"> Class = 3, Female, Age: 25,  Fare:  6.76 </h5>"
   ]
  },
  {
   "cell_type": "code",
   "execution_count": 57,
   "id": "c92245f3-8044-4ed0-a598-fdc550bc4342",
   "metadata": {},
   "outputs": [
    {
     "data": {
      "text/plain": [
       "array([0], dtype=int64)"
      ]
     },
     "execution_count": 57,
     "metadata": {},
     "output_type": "execute_result"
    }
   ],
   "source": [
    "model.predict([[3,25,6.76,0]])"
   ]
  },
  {
   "cell_type": "markdown",
   "id": "570121eb-d186-4dce-9a92-b80afc0f8350",
   "metadata": {},
   "source": [
    "<h5 style=\"color:red\"> Class = 2, Female, Age: 43,  Fare:  12.88 </h5>"
   ]
  },
  {
   "cell_type": "code",
   "execution_count": 58,
   "id": "3cf3e411-1106-4ff9-b630-66e3b3ac63a0",
   "metadata": {},
   "outputs": [
    {
     "data": {
      "text/plain": [
       "array([1], dtype=int64)"
      ]
     },
     "execution_count": 58,
     "metadata": {},
     "output_type": "execute_result"
    }
   ],
   "source": [
    "model.predict([[2,43,12.88,0]])"
   ]
  },
  {
   "cell_type": "code",
   "execution_count": 59,
   "id": "ae8ce0e8-0bf4-4c53-af48-ef1872dfa594",
   "metadata": {},
   "outputs": [
    {
     "data": {
      "text/plain": [
       "0.7932960893854749"
      ]
     },
     "execution_count": 59,
     "metadata": {},
     "output_type": "execute_result"
    }
   ],
   "source": [
    "model.score(X_test, y_test)"
   ]
  },
  {
   "cell_type": "markdown",
   "id": "2c5ad8e4-bb66-4c2f-966d-c33ed3478fa3",
   "metadata": {},
   "source": [
    "<h3 style=\"color:green;text-align:center\">Model accuracy in Decision Tree Algorithm is 77.6 </h3>"
   ]
  },
  {
   "cell_type": "markdown",
   "id": "0ffa0b59-0bd0-4aa2-8b9e-9940f5c2c73c",
   "metadata": {},
   "source": [
    "<h4 style='color:purple'>Confusion Matrix</h4>"
   ]
  },
  {
   "cell_type": "code",
   "execution_count": 60,
   "id": "307041a0-f08d-4a8c-894d-5a2c577c12b7",
   "metadata": {},
   "outputs": [],
   "source": [
    "y_predicted = model.predict(X_test)"
   ]
  },
  {
   "cell_type": "code",
   "execution_count": 61,
   "id": "c4d4eb02-d058-4d4b-aca7-d490cf1d0393",
   "metadata": {},
   "outputs": [
    {
     "data": {
      "text/plain": [
       "array([[85, 22],\n",
       "       [15, 57]], dtype=int64)"
      ]
     },
     "execution_count": 61,
     "metadata": {},
     "output_type": "execute_result"
    }
   ],
   "source": [
    "from sklearn.metrics import confusion_matrix\n",
    "cm = confusion_matrix(y_test, y_predicted)\n",
    "cm"
   ]
  },
  {
   "cell_type": "code",
   "execution_count": 62,
   "id": "78f824cf-bbd4-4e63-9fd4-fd29cd48e679",
   "metadata": {},
   "outputs": [
    {
     "data": {
      "text/plain": [
       "Text(69.0, 0.5, 'Truth')"
      ]
     },
     "execution_count": 62,
     "metadata": {},
     "output_type": "execute_result"
    },
    {
     "data": {
      "image/png": "[encoded data removed]",
      "text/plain": [
       "<Figure size 720x504 with 2 Axes>"
      ]
     },
     "metadata": {
      "needs_background": "light"
     },
     "output_type": "display_data"
    }
   ],
   "source": [
    "import seaborn as sn\n",
    "plt.figure(figsize = (10,7))\n",
    "sn.heatmap(cm, annot=True)\n",
    "plt.xlabel('Predicted')\n",
    "plt.ylabel('Truth')"
   ]
  },
  {
   "cell_type": "markdown",
   "id": "d32b88c4-5874-46d4-879b-66703f94f18f",
   "metadata": {},
   "source": [
    "<h4 style=\"color:darkgreen\">From the above Confusion matrix We can conclude that \n",
    "    <ul>\n",
    "        <li>We predicted that 86 people will not sink and it is correct </li>\n",
    "        <li>We predicted that 22 people will not sink and it is not correct</li>\n",
    "        <li>We predicted that 52 people will sink and it is correct</li>\n",
    "        <li>We predicted that 19 people will sink and it is not correct</li>\n",
    "    </ul>"
   ]
  },
  {
   "cell_type": "markdown",
   "id": "5fb3872a-c466-4bb2-a48b-5dfbaf5121a1",
   "metadata": {},
   "source": [
    "<h1 style=\"text-align:center;color:red\">Model with Logistic regression </h1>"
   ]
  },
  {
   "cell_type": "code",
   "execution_count": 63,
   "id": "a93aebe2-d6d6-43c5-a97c-7b5c099d5ac8",
   "metadata": {},
   "outputs": [],
   "source": [
    "from sklearn.linear_model import LogisticRegression\n",
    "model = LogisticRegression(random_state=42)"
   ]
  },
  {
   "cell_type": "code",
   "execution_count": 64,
   "id": "46f11e82-355f-4433-adcc-661a46a14786",
   "metadata": {},
   "outputs": [
    {
     "data": {
      "text/plain": [
       "LogisticRegression(random_state=42)"
      ]
     },
     "execution_count": 64,
     "metadata": {},
     "output_type": "execute_result"
    }
   ],
   "source": [
    "model.fit(X_train, y_train)"
   ]
  },
  {
   "cell_type": "code",
   "execution_count": 65,
   "id": "195dd339-6195-4877-a70b-34014a6f1545",
   "metadata": {},
   "outputs": [
    {
     "data": {
      "text/plain": [
       "0.8044692737430168"
      ]
     },
     "execution_count": 65,
     "metadata": {},
     "output_type": "execute_result"
    }
   ],
   "source": [
    "model.score(X_test, y_test)"
   ]
  },
  {
   "cell_type": "markdown",
   "id": "3e9b7746-a90e-4557-a42b-d6c8adbb93e5",
   "metadata": {},
   "source": [
    "<h3 style=\"color:green;text-align:center\">Model accuracy in Logistic regression is 77.6 </h3>"
   ]
  },
  {
   "cell_type": "markdown",
   "id": "a3920d98-bc57-4c13-b7be-a11ec61dca81",
   "metadata": {},
   "source": [
    "<h5 style=\"color:red\"> Class = 1, Male, Age: 28,  Fare:  20.5 </h5>"
   ]
  },
  {
   "cell_type": "code",
   "execution_count": 66,
   "id": "99e57889-c58c-40dd-9518-1e0c42ae21a9",
   "metadata": {},
   "outputs": [
    {
     "data": {
      "text/plain": [
       "array([1], dtype=int64)"
      ]
     },
     "execution_count": 66,
     "metadata": {},
     "output_type": "execute_result"
    }
   ],
   "source": [
    "model.predict([[1,28,20.5,1]])"
   ]
  },
  {
   "cell_type": "markdown",
   "id": "9c7fc837-ab01-42eb-9f38-a8c3aff6ae5f",
   "metadata": {},
   "source": [
    "<h5 style=\"color:red\"> Class = 2, Male, Age: 70,  Fare:  7.5 </h5>"
   ]
  },
  {
   "cell_type": "code",
   "execution_count": 67,
   "id": "a2fdfdbc-960f-4eb6-9ca9-0fb19ffb3da6",
   "metadata": {},
   "outputs": [
    {
     "data": {
      "text/plain": [
       "array([0], dtype=int64)"
      ]
     },
     "execution_count": 67,
     "metadata": {},
     "output_type": "execute_result"
    }
   ],
   "source": [
    "model.predict([[2,70,7.5,1]])"
   ]
  },
  {
   "cell_type": "markdown",
   "id": "b02867d0-8cd4-429e-be77-b99ccb860930",
   "metadata": {},
   "source": [
    "<h5 style=\"color:red\"> Class = 3, Female, Age: 25,  Fare:  6.76 </h5>"
   ]
  },
  {
   "cell_type": "code",
   "execution_count": 68,
   "id": "17355273-2117-4192-bd8b-56692e188341",
   "metadata": {},
   "outputs": [
    {
     "data": {
      "text/plain": [
       "array([1], dtype=int64)"
      ]
     },
     "execution_count": 68,
     "metadata": {},
     "output_type": "execute_result"
    }
   ],
   "source": [
    "model.predict([[3,25,6.76,0]])"
   ]
  },
  {
   "cell_type": "markdown",
   "id": "8d966e10-4451-4c22-ba32-cf38d9715e13",
   "metadata": {},
   "source": [
    "<h5 style=\"color:red\"> Class = 2, Female, Age: 43,  Fare:  12.88 </h5>"
   ]
  },
  {
   "cell_type": "code",
   "execution_count": 69,
   "id": "94f0b041-a407-41e0-bb6f-2d8bcb9127d9",
   "metadata": {},
   "outputs": [
    {
     "data": {
      "text/plain": [
       "array([1], dtype=int64)"
      ]
     },
     "execution_count": 69,
     "metadata": {},
     "output_type": "execute_result"
    }
   ],
   "source": [
    "model.predict([[2,43,12.88,0]])"
   ]
  },
  {
   "cell_type": "markdown",
   "id": "c338d1b1-ec83-4df7-a25c-9a7e4a8f1566",
   "metadata": {},
   "source": [
    "<h4 style='color:purple'>Confusion Matrix</h4>"
   ]
  },
  {
   "cell_type": "code",
   "execution_count": 70,
   "id": "1b6bfee3-e399-4441-a559-93ba1bc0340b",
   "metadata": {},
   "outputs": [],
   "source": [
    "y_predicted = model.predict(X_test)"
   ]
  },
  {
   "cell_type": "code",
   "execution_count": 71,
   "id": "2f26177d-173f-4e4b-a5f7-cee5baeb5056",
   "metadata": {},
   "outputs": [
    {
     "data": {
      "text/plain": [
       "array([[86, 21],\n",
       "       [14, 58]], dtype=int64)"
      ]
     },
     "execution_count": 71,
     "metadata": {},
     "output_type": "execute_result"
    }
   ],
   "source": [
    "from sklearn.metrics import confusion_matrix\n",
    "cm = confusion_matrix(y_test, y_predicted)\n",
    "cm"
   ]
  },
  {
   "cell_type": "code",
   "execution_count": 72,
   "id": "fbaf5f45-a156-43eb-a8ad-9aa9387a7c35",
   "metadata": {},
   "outputs": [
    {
     "data": {
      "text/plain": [
       "Text(69.0, 0.5, 'Truth')"
      ]
     },
     "execution_count": 72,
     "metadata": {},
     "output_type": "execute_result"
    },
    {
     "data": {
      "image/png": "[encoded data removed]",
      "text/plain": [
       "<Figure size 720x504 with 2 Axes>"
      ]
     },
     "metadata": {
      "needs_background": "light"
     },
     "output_type": "display_data"
    }
   ],
   "source": [
    "import seaborn as sn\n",
    "plt.figure(figsize = (10,7))\n",
    "sn.heatmap(cm, annot=True)\n",
    "plt.xlabel('Predicted')\n",
    "plt.ylabel('Truth')"
   ]
  },
  {
   "cell_type": "markdown",
   "id": "98c1f2c1-2626-4cf0-a1f9-10befd5c76a3",
   "metadata": {},
   "source": [
    "<h4 style=\"color:darkgreen\">From the above Confusion matrix We can conclude that \n",
    "    <ul>\n",
    "        <li>We predicted that 90 people will not sink and it is correct </li>\n",
    "        <li>We predicted that 16 people will not sink and it is not correct</li>\n",
    "        <li>We predicted that 56 people will sink and it is correct</li>\n",
    "        <li>We predicted that 17 people will sink and it is not correct</li>\n",
    "    </ul>"
   ]
  }
 ],
 "metadata": {
  "kernelspec": {
   "display_name": "Python 3 (ipykernel)",
   "language": "python",
   "name": "python3"
  },
  "language_info": {
   "codemirror_mode": {
    "name": "ipython",
    "version": 3
   },
   "file_extension": ".py",
   "mimetype": "text/x-python",
   "name": "python",
   "nbconvert_exporter": "python",
   "pygments_lexer": "ipython3",
   "version": "3.9.6"
  }
 },
 "nbformat": 4,
 "nbformat_minor": 5
}
