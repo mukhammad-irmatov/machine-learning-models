{
 "cells": [
  {
   "cell_type": "code",
   "execution_count": 21,
   "id": "d94166e9-9671-477b-a01a-123224bd91fc",
   "metadata": {},
   "outputs": [],
   "source": [
    "import pandas as pd\n",
    "import numpy as np\n",
    "import matplotlib.pyplot as plt\n",
    "from sklearn import linear_model"
   ]
  },
  {
   "cell_type": "markdown",
   "id": "806cc52f-0f10-4ce7-b567-f03db7199768",
   "metadata": {},
   "source": [
    "Loading CSV file using Pandas and dropping Unnamed column by using drop function"
   ]
  },
  {
   "cell_type": "code",
   "execution_count": 22,
   "id": "654df3bf-3c89-44ad-844f-bbd13db16b33",
   "metadata": {},
   "outputs": [
    {
     "data": {
      "text/html": [
       "<div>\n",
       "<style scoped>\n",
       "    .dataframe tbody tr th:only-of-type {\n",
       "        vertical-align: middle;\n",
       "    }\n",
       "\n",
       "    .dataframe tbody tr th {\n",
       "        vertical-align: top;\n",
       "    }\n",
       "\n",
       "    .dataframe thead th {\n",
       "        text-align: right;\n",
       "    }\n",
       "</style>\n",
       "<table border=\"1\" class=\"dataframe\">\n",
       "  <thead>\n",
       "    <tr style=\"text-align: right;\">\n",
       "      <th></th>\n",
       "      <th>TV</th>\n",
       "      <th>radio</th>\n",
       "      <th>newspaper</th>\n",
       "      <th>sales</th>\n",
       "    </tr>\n",
       "  </thead>\n",
       "  <tbody>\n",
       "    <tr>\n",
       "      <th>0</th>\n",
       "      <td>230.1</td>\n",
       "      <td>37.8</td>\n",
       "      <td>69.2</td>\n",
       "      <td>22.1</td>\n",
       "    </tr>\n",
       "    <tr>\n",
       "      <th>1</th>\n",
       "      <td>44.5</td>\n",
       "      <td>39.3</td>\n",
       "      <td>45.1</td>\n",
       "      <td>10.4</td>\n",
       "    </tr>\n",
       "    <tr>\n",
       "      <th>2</th>\n",
       "      <td>17.2</td>\n",
       "      <td>45.9</td>\n",
       "      <td>69.3</td>\n",
       "      <td>9.3</td>\n",
       "    </tr>\n",
       "    <tr>\n",
       "      <th>3</th>\n",
       "      <td>151.5</td>\n",
       "      <td>41.3</td>\n",
       "      <td>58.5</td>\n",
       "      <td>18.5</td>\n",
       "    </tr>\n",
       "    <tr>\n",
       "      <th>4</th>\n",
       "      <td>180.8</td>\n",
       "      <td>10.8</td>\n",
       "      <td>58.4</td>\n",
       "      <td>12.9</td>\n",
       "    </tr>\n",
       "    <tr>\n",
       "      <th>...</th>\n",
       "      <td>...</td>\n",
       "      <td>...</td>\n",
       "      <td>...</td>\n",
       "      <td>...</td>\n",
       "    </tr>\n",
       "    <tr>\n",
       "      <th>195</th>\n",
       "      <td>38.2</td>\n",
       "      <td>3.7</td>\n",
       "      <td>13.8</td>\n",
       "      <td>7.6</td>\n",
       "    </tr>\n",
       "    <tr>\n",
       "      <th>196</th>\n",
       "      <td>94.2</td>\n",
       "      <td>4.9</td>\n",
       "      <td>8.1</td>\n",
       "      <td>9.7</td>\n",
       "    </tr>\n",
       "    <tr>\n",
       "      <th>197</th>\n",
       "      <td>177.0</td>\n",
       "      <td>9.3</td>\n",
       "      <td>6.4</td>\n",
       "      <td>12.8</td>\n",
       "    </tr>\n",
       "    <tr>\n",
       "      <th>198</th>\n",
       "      <td>283.6</td>\n",
       "      <td>42.0</td>\n",
       "      <td>66.2</td>\n",
       "      <td>25.5</td>\n",
       "    </tr>\n",
       "    <tr>\n",
       "      <th>199</th>\n",
       "      <td>232.1</td>\n",
       "      <td>8.6</td>\n",
       "      <td>8.7</td>\n",
       "      <td>13.4</td>\n",
       "    </tr>\n",
       "  </tbody>\n",
       "</table>\n",
       "<p>200 rows × 4 columns</p>\n",
       "</div>"
      ],
      "text/plain": [
       "        TV  radio  newspaper  sales\n",
       "0    230.1   37.8       69.2   22.1\n",
       "1     44.5   39.3       45.1   10.4\n",
       "2     17.2   45.9       69.3    9.3\n",
       "3    151.5   41.3       58.5   18.5\n",
       "4    180.8   10.8       58.4   12.9\n",
       "..     ...    ...        ...    ...\n",
       "195   38.2    3.7       13.8    7.6\n",
       "196   94.2    4.9        8.1    9.7\n",
       "197  177.0    9.3        6.4   12.8\n",
       "198  283.6   42.0       66.2   25.5\n",
       "199  232.1    8.6        8.7   13.4\n",
       "\n",
       "[200 rows x 4 columns]"
      ]
     },
     "execution_count": 22,
     "metadata": {},
     "output_type": "execute_result"
    }
   ],
   "source": [
    "df = pd.read_csv(\"advertising.csv\")\n",
    "df.drop('Unnamed: 0',inplace = True,axis=1)\n",
    "df"
   ]
  },
  {
   "cell_type": "code",
   "execution_count": 23,
   "id": "d69db412-8cac-45cc-b52c-49a70f6fa30a",
   "metadata": {},
   "outputs": [
    {
     "data": {
      "text/plain": [
       "<matplotlib.collections.PathCollection at 0x2300e66c4f0>"
      ]
     },
     "execution_count": 23,
     "metadata": {},
     "output_type": "execute_result"
    },
    {
     "data": {
      "image/png": "[encoded data removed]",
      "text/plain": [
       "<Figure size 432x288 with 1 Axes>"
      ]
     },
     "metadata": {
      "needs_background": "light"
     },
     "output_type": "display_data"
    }
   ],
   "source": [
    "%matplotlib inline\n",
    "plt.xlabel('TV Cost')\n",
    "plt.ylabel('sales')\n",
    "plt.scatter(df.TV,df.sales, color = 'red', marker = '*')"
   ]
  },
  {
   "cell_type": "code",
   "execution_count": 24,
   "id": "e9bfc14c-3700-4be5-bd76-67bf66b52a1b",
   "metadata": {},
   "outputs": [],
   "source": [
    "model = linear_model.LinearRegression()\n",
    "X = df.drop(['sales'], axis = 'columns')\n",
    "y = df[\"sales\"]\n"
   ]
  },
  {
   "cell_type": "code",
   "execution_count": 25,
   "id": "d79177b4-9389-40f8-a98d-cb1f3a47d131",
   "metadata": {},
   "outputs": [
    {
     "data": {
      "text/plain": [
       "LinearRegression()"
      ]
     },
     "execution_count": 25,
     "metadata": {},
     "output_type": "execute_result"
    }
   ],
   "source": [
    "model.fit(X,y)"
   ]
  },
  {
   "cell_type": "markdown",
   "id": "16386094-ea31-41db-b39b-c6441d0795a6",
   "metadata": {},
   "source": [
    "<h3 style=\"text-align:center;color:red\">Predict the number of sales for: </h3>\n",
    "<ul><li style=\"font-size:20px; color:darkblue\">TV: 200k USD, radio: 30k USD, newspaper 60k USD </li></ul>"
   ]
  },
  {
   "cell_type": "code",
   "execution_count": 26,
   "id": "d9a8db02-f4a0-49b4-bc16-ddfcf192cb7d",
   "metadata": {},
   "outputs": [
    {
     "data": {
      "text/plain": [
       "array([17.68546939])"
      ]
     },
     "execution_count": 26,
     "metadata": {},
     "output_type": "execute_result"
    }
   ],
   "source": [
    "model.predict([[200,30,60]])"
   ]
  },
  {
   "cell_type": "markdown",
   "id": "c51775cd-836d-4a5f-91c1-f15e44e09090",
   "metadata": {},
   "source": [
    "<ul><li style=\"font-size:20px; color:darkblue\">TV: 230k USD, radio: 20k USD, newspaper 55k USD </li></ul>"
   ]
  },
  {
   "cell_type": "code",
   "execution_count": 27,
   "id": "e8a53e82-f4d4-4adc-8794-14c0d090abb4",
   "metadata": {},
   "outputs": [
    {
     "data": {
      "text/plain": [
       "array([17.17829605])"
      ]
     },
     "execution_count": 27,
     "metadata": {},
     "output_type": "execute_result"
    }
   ],
   "source": [
    "model.predict([[230,20,55]])"
   ]
  },
  {
   "cell_type": "markdown",
   "id": "7aca3a90-2cd4-447c-8fdc-843b5e497709",
   "metadata": {},
   "source": [
    "<ul><li style=\"font-size:20px; color:darkblue\">TV: 250k USD, radio: 20k USD, newspaper 35k USD </li></ul>"
   ]
  },
  {
   "cell_type": "code",
   "execution_count": 28,
   "id": "0d8e661a-7af5-4fbc-8758-41daafee4a05",
   "metadata": {},
   "outputs": [
    {
     "data": {
      "text/plain": [
       "array([18.11433882])"
      ]
     },
     "execution_count": 28,
     "metadata": {},
     "output_type": "execute_result"
    }
   ],
   "source": [
    "model.predict([[250,20,35]])"
   ]
  },
  {
   "cell_type": "markdown",
   "id": "a562612a-8901-4db7-acbb-881598b5a9db",
   "metadata": {},
   "source": [
    "<h3 style=\"color:red\"> Coefficient value </h3>"
   ]
  },
  {
   "cell_type": "code",
   "execution_count": 29,
   "id": "63d7db9d-40c3-4144-8b0a-b00391d9e267",
   "metadata": {},
   "outputs": [
    {
     "data": {
      "text/plain": [
       "array([ 0.04576465,  0.18853002, -0.00103749])"
      ]
     },
     "execution_count": 29,
     "metadata": {},
     "output_type": "execute_result"
    }
   ],
   "source": [
    "model.coef_"
   ]
  },
  {
   "cell_type": "markdown",
   "id": "cb4a554e-1727-4d09-95fe-131794046c89",
   "metadata": {},
   "source": [
    "<h3 style=\"color:red\"> Intercept value </h3>"
   ]
  },
  {
   "cell_type": "code",
   "execution_count": 30,
   "id": "d1e0f0ed-20e6-4347-8916-023d40ceb66c",
   "metadata": {},
   "outputs": [
    {
     "data": {
      "text/plain": [
       "2.9388893694594103"
      ]
     },
     "execution_count": 30,
     "metadata": {},
     "output_type": "execute_result"
    }
   ],
   "source": [
    "model.intercept_"
   ]
  },
  {
   "cell_type": "markdown",
   "id": "ef093bf8-826f-4047-b6e7-77da7f0cd9bf",
   "metadata": {},
   "source": [
    "<h3 style=\"color:red\"> Model Score </h3>"
   ]
  },
  {
   "cell_type": "code",
   "execution_count": 31,
   "id": "66cb0845-72d8-4ed7-8687-47d938683607",
   "metadata": {},
   "outputs": [
    {
     "data": {
      "text/plain": [
       "0.8972106381789522"
      ]
     },
     "execution_count": 31,
     "metadata": {},
     "output_type": "execute_result"
    }
   ],
   "source": [
    "model.score(X,y)"
   ]
  },
  {
   "cell_type": "markdown",
   "id": "e6c35083-2ae7-490e-83d4-8f9df1d029e1",
   "metadata": {},
   "source": [
    "<h3 style = \"color:darkblue\"> The model score is 0.89 Accuracy rate is not high enough but this score is also quite good score to predict</h3>"
   ]
  }
 ],
 "metadata": {
  "kernelspec": {
   "display_name": "Python 3 (ipykernel)",
   "language": "python",
   "name": "python3"
  },
  "language_info": {
   "codemirror_mode": {
    "name": "ipython",
    "version": 3
   },
   "file_extension": ".py",
   "mimetype": "text/x-python",
   "name": "python",
   "nbconvert_exporter": "python",
   "pygments_lexer": "ipython3",
   "version": "3.9.6"
  }
 },
 "nbformat": 4,
 "nbformat_minor": 5
}
